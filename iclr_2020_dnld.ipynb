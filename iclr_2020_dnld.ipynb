{
 "cells": [
  {
   "cell_type": "code",
   "execution_count": 1,
   "metadata": {},
   "outputs": [],
   "source": [
    "import requests\n"
   ]
  },
  {
   "cell_type": "code",
   "execution_count": 2,
   "metadata": {},
   "outputs": [],
   "source": [
    "paper_list= []\n",
    "for i in range(3):\n",
    "    response = requests.get(\n",
    "        f\"https://openreview.net/notes?invitation=ICLR.cc%2F2020%2FConference%2F-%2FBlind_Submission&details=replyCount%2Coriginal&includeCount=true&offset={i*1000}&limit=10000\")\n",
    "    json = response.json()\n",
    "    paper_list.extend(json[\"notes\"])"
   ]
  },
  {
   "cell_type": "code",
   "execution_count": 3,
   "metadata": {},
   "outputs": [],
   "source": [
    "# filter paper list for relevant things  \n",
    "\n",
    "filtered_content = [ ]\n",
    "for i in paper_list:\n",
    "\n",
    "    id_ = i[\"id\"]\n",
    "            \n",
    "    content = i.get(\"content\")\n",
    "    if (content):\n",
    "        tldr = content.get(\"TL;DR\")\n",
    "        abs_ = content.get(\"abstract\")\n",
    "        title=content.get(\"title\")\n",
    "        \n",
    "        kw = content.get(\"keywords\")\n",
    "        if (kw):\n",
    "            kw = [j.lower().strip() for j in kw]\n",
    "        details = i.get(\"details\")\n",
    "        repl_cnt = None\n",
    "        if (details):\n",
    "            repl_cnt = details.get(\"replyCount\")\n",
    "            \n",
    "\n",
    "        filtered_content.append({\"id\": id_, \"tldr\": tldr, \"abs\": abs_, \"kw\": kw, \"repl_cnt\": repl_cnt, \"title\":title})"
   ]
  },
  {
   "cell_type": "code",
   "execution_count": 6,
   "metadata": {
    "scrolled": false
   },
   "outputs": [
    {
     "name": "stdout",
     "output_type": "stream",
     "text": [
      "0 of 2519 parsed\n",
      "100 of 2519 parsed\n",
      "200 of 2519 parsed\n",
      "300 of 2519 parsed\n",
      "400 of 2519 parsed\n",
      "500 of 2519 parsed\n",
      "600 of 2519 parsed\n",
      "700 of 2519 parsed\n",
      "800 of 2519 parsed\n",
      "900 of 2519 parsed\n",
      "1000 of 2519 parsed\n",
      "1100 of 2519 parsed\n",
      "1200 of 2519 parsed\n",
      "1300 of 2519 parsed\n",
      "1400 of 2519 parsed\n",
      "1500 of 2519 parsed\n",
      "1600 of 2519 parsed\n",
      "1700 of 2519 parsed\n",
      "1800 of 2519 parsed\n",
      "1900 of 2519 parsed\n",
      "2000 of 2519 parsed\n",
      "2100 of 2519 parsed\n",
      "2200 of 2519 parsed\n",
      "2300 of 2519 parsed\n",
      "2400 of 2519 parsed\n",
      "2500 of 2519 parsed\n"
     ]
    }
   ],
   "source": [
    "# get review scores\n",
    "url = lambda id_:  f\"https://openreview.net/notes?forum={id_}\"\n",
    "\n",
    "for idx, i in enumerate(filtered_content):\n",
    "    response = requests.get(url(i[\"id\"]))\n",
    "    json = response.json()\n",
    "    notes = json[\"notes\"]\n",
    "    # get ratings\n",
    "    ratings = [] \n",
    "#     breakpoint()\n",
    "    for n in notes:\n",
    "#         print(n)\n",
    "        content= n.get(\"content\")\n",
    "        if (content):\n",
    "            rating = content.get(\"rating\")\n",
    "            if (rating):\n",
    "                ratings.append(int(rating.split(\":\")[0]))\n",
    "        \n",
    "        filtered_content[idx][\"ratings\"] = ratings\n",
    "        \n",
    "    if (idx%100==0):\n",
    "        print(f\"{idx} of {len(filtered_content)} parsed\")"
   ]
  },
  {
   "cell_type": "code",
   "execution_count": 8,
   "metadata": {},
   "outputs": [],
   "source": [
    "# create keywords counter\n",
    "from collections import Counter\n",
    "\n",
    "c = Counter()\n",
    "for i in filtered_content:\n",
    "    for k in i[\"kw\"]:\n",
    "        c[k]+=1"
   ]
  },
  {
   "cell_type": "code",
   "execution_count": 15,
   "metadata": {
    "scrolled": false
   },
   "outputs": [],
   "source": [
    "import json\n",
    "json.dump(filtered_content, open(\"iclr_2020.json\", \"w\"))"
   ]
  },
  {
   "cell_type": "code",
   "execution_count": null,
   "metadata": {},
   "outputs": [],
   "source": []
  }
 ],
 "metadata": {
  "kernelspec": {
   "display_name": "Python 3",
   "language": "python",
   "name": "python3"
  },
  "language_info": {
   "codemirror_mode": {
    "name": "ipython",
    "version": 3
   },
   "file_extension": ".py",
   "mimetype": "text/x-python",
   "name": "python",
   "nbconvert_exporter": "python",
   "pygments_lexer": "ipython3",
   "version": "3.7.3"
  }
 },
 "nbformat": 4,
 "nbformat_minor": 2
}
